{
 "cells": [
  {
   "cell_type": "code",
   "execution_count": 1,
   "id": "f4b9253a",
   "metadata": {},
   "outputs": [],
   "source": [
    "import os \n",
    "import json\n",
    "import pandas as pd\n",
    "import pymongo"
   ]
  },
  {
   "cell_type": "code",
   "execution_count": 2,
   "id": "3aee4bd4",
   "metadata": {},
   "outputs": [],
   "source": [
    "conn = 'mongodb://localhost:27017'\n",
    "client = pymongo.MongoClient(conn)\n",
    "db = client[\"Project-2\"]"
   ]
  },
  {
   "cell_type": "code",
   "execution_count": 3,
   "id": "2ea19740",
   "metadata": {},
   "outputs": [],
   "source": [
    "for x in os.listdir('this_one'):\n",
    "    df = pd.read_csv(f'this_one/{x}')\n",
    "    x = x.replace(\" \",\"_\")[:len(x) - 4]\n",
    "    collist = db.list_collection_names()\n",
    "    records = json.loads(df.T.to_json()).values()\n",
    "    if x not in collist:\n",
    "          db[x].insert_many(records)"
   ]
  },
  {
   "cell_type": "code",
   "execution_count": null,
   "id": "a405a4dc",
   "metadata": {},
   "outputs": [],
   "source": []
  }
 ],
 "metadata": {
  "kernelspec": {
   "display_name": "Python 3",
   "language": "python",
   "name": "python3"
  },
  "language_info": {
   "codemirror_mode": {
    "name": "ipython",
    "version": 3
   },
   "file_extension": ".py",
   "mimetype": "text/x-python",
   "name": "python",
   "nbconvert_exporter": "python",
   "pygments_lexer": "ipython3",
   "version": "3.8.8"
  }
 },
 "nbformat": 4,
 "nbformat_minor": 5
}
