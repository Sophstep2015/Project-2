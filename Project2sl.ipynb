{
 "cells": [
  {
   "cell_type": "code",
   "execution_count": 22,
   "id": "ca2ef957",
   "metadata": {},
   "outputs": [],
   "source": [
    "import pandas as pd\n",
    "import os\n",
    "import sqlalchemy\n",
    "from sqlalchemy.ext.automap import automap_base\n",
    "from sqlalchemy.orm import Session\n",
    "from sqlalchemy import create_engine, func, inspect, desc\n"
   ]
  },
  {
   "cell_type": "code",
   "execution_count": 23,
   "id": "0f4ec17c",
   "metadata": {},
   "outputs": [
    {
     "name": "stdout",
     "output_type": "stream",
     "text": [
      "[]\n",
      "--------------------\n"
     ]
    }
   ],
   "source": [
    "engine = sqlalchemy.create_engine('sqlite://', echo=False)\n",
    "for x in os.listdir(\"this_one\"):\n",
    "    df = pd.read_csv(f'this_one/{x}')\n",
    "    x = x.replace(\" \", \"_\")[:len(x)-4]\n",
    "    df.to_sql(x, con=engine)\n",
    "Base = automap_base()\n",
    "Base.prepare(engine, reflect=True)\n",
    "print(Base.classes.keys())\n"
   ]
  },
  {
   "cell_type": "code",
   "execution_count": 27,
   "id": "b6f4d775",
   "metadata": {},
   "outputs": [
    {
     "name": "stdout",
     "output_type": "stream",
     "text": [
      "CasesCount\n",
      "\n",
      "index BIGINT\n",
      "County TEXT\n",
      "FIPS BIGINT\n",
      "Month TEXT\n",
      "CasesCount BIGINT\n",
      "TestsPer100K BIGINT\n",
      "ActiveCase BIGINT\n",
      "DeathCount BIGINT\n",
      "CountyRace\n",
      "\n",
      "index BIGINT\n",
      "CountyName  TEXT\n",
      "Race/Ethnicity TEXT\n",
      "PeopleVaccinated BIGINT\n",
      "PeopleFullyVaccinated BIGINT\n",
      "TotalVaccinations BIGINT\n",
      "TexasCases\n",
      "\n",
      "index BIGINT\n",
      "Month TEXT\n",
      "MonthNumber BIGINT\n",
      "Last_Update TEXT\n",
      "Province_State TEXT\n",
      "Confirmed BIGINT\n",
      "Deaths BIGINT\n",
      "Incident_Rate FLOAT\n",
      "Total_Test_Results BIGINT\n",
      "Case_Fatality_Ratio FLOAT\n",
      "Testing_Rate FLOAT\n",
      "Unnamed: 10 FLOAT\n",
      "Unnamed: 11 FLOAT\n",
      "TexasCountyVaccinationStatus\n",
      "\n",
      "index BIGINT\n",
      "County TEXT\n",
      "Month TEXT\n",
      "CasesCount BIGINT\n",
      "TestsPer100K BIGINT\n",
      "ActiveCase BIGINT\n",
      "DeathCount BIGINT\n",
      "TotalVaccinations FLOAT\n",
      "PeopleVaccinated FLOAT\n",
      "PeopleFullyVaccinated FLOAT\n",
      "DailyVaccinations FLOAT\n",
      "TotalVaccinationsPerHundred FLOAT\n",
      "PeopleFullyVaccinatedPerHundred FLOAT\n",
      "vaccines FLOAT\n",
      "Total_Texas_County_Data\n",
      "\n",
      "index BIGINT\n",
      "County Name TEXT\n",
      "Data Type TEXT\n",
      "January BIGINT\n",
      "February BIGINT\n",
      "March BIGINT\n",
      "April BIGINT\n",
      "May BIGINT\n",
      "June BIGINT\n",
      "July BIGINT\n",
      "August BIGINT\n",
      "September BIGINT\n",
      "October BIGINT\n",
      "daily_test_rates_texas\n",
      "\n",
      "index BIGINT\n",
      "date TEXT\n",
      "state TEXT\n",
      "cases_conf_probable BIGINT\n",
      "tests_viral_positive BIGINT\n",
      "tests_viral_total BIGINT\n",
      "tests_antigen_positive BIGINT\n",
      "tests_antigen_total BIGINT\n",
      "people_viral_positive BIGINT\n",
      "tests_combined_total BIGINT\n",
      "texas_combined_completed_data\n",
      "\n",
      "index BIGINT\n",
      "Last_Update TEXT\n",
      "Province_State TEXT\n",
      "Confirmed BIGINT\n",
      "Deaths BIGINT\n",
      "Incident_Rate FLOAT\n",
      "Total_Test_Results BIGINT\n",
      "Case_Fatality_Ratio FLOAT\n",
      "Testing_Rate FLOAT\n",
      "People_Fully_Vaccinated FLOAT\n",
      "People_Partially_Vaccinated FLOAT\n",
      "texas_demographics\n",
      "\n",
      "index BIGINT\n",
      "State TEXT\n",
      "Category TEXT\n",
      "Metric TEXT\n",
      "Demo_cat_0 TEXT\n",
      "Demo_cat_1 TEXT\n",
      "Estimate_type TEXT\n",
      "April_2021 FLOAT\n",
      "May_2021 FLOAT\n",
      "June_2021 FLOAT\n",
      "July_2021 FLOAT\n",
      "August_2021 FLOAT\n",
      "September_2021 FLOAT\n",
      "October_2021 FLOAT\n",
      "total_tests_county\n",
      "\n",
      "index BIGINT\n",
      "county TEXT\n",
      "province_state TEXT\n",
      "combined_key TEXT\n",
      "lat FLOAT\n",
      "long FLOAT\n",
      "date TEXT\n",
      "tests_combined_total BIGINT\n"
     ]
    }
   ],
   "source": [
    "inspector = inspect(engine)\n",
    "for x in inspector.get_table_names():\n",
    "    print(f'{x}\\n')\n",
    "    for y in inspector.get_columns(x):\n",
    "        print(y[\"name\"], y[\"type\"])"
   ]
  },
  {
   "cell_type": "code",
   "execution_count": 25,
   "id": "fa1a05e3",
   "metadata": {
    "scrolled": true
   },
   "outputs": [
    {
     "ename": "AttributeError",
     "evalue": "TexasCountyVaccinationStatus",
     "output_type": "error",
     "traceback": [
      "\u001b[1;31m---------------------------------------------------------------------------\u001b[0m",
      "\u001b[1;31mKeyError\u001b[0m                                  Traceback (most recent call last)",
      "\u001b[1;32m~\\anaconda3\\lib\\site-packages\\sqlalchemy\\util\\_collections.py\u001b[0m in \u001b[0;36m__getattr__\u001b[1;34m(self, key)\u001b[0m\n\u001b[0;32m    185\u001b[0m         \u001b[1;32mtry\u001b[0m\u001b[1;33m:\u001b[0m\u001b[1;33m\u001b[0m\u001b[1;33m\u001b[0m\u001b[0m\n\u001b[1;32m--> 186\u001b[1;33m             \u001b[1;32mreturn\u001b[0m \u001b[0mself\u001b[0m\u001b[1;33m.\u001b[0m\u001b[0m_data\u001b[0m\u001b[1;33m[\u001b[0m\u001b[0mkey\u001b[0m\u001b[1;33m]\u001b[0m\u001b[1;33m\u001b[0m\u001b[1;33m\u001b[0m\u001b[0m\n\u001b[0m\u001b[0;32m    187\u001b[0m         \u001b[1;32mexcept\u001b[0m \u001b[0mKeyError\u001b[0m\u001b[1;33m:\u001b[0m\u001b[1;33m\u001b[0m\u001b[1;33m\u001b[0m\u001b[0m\n",
      "\u001b[1;31mKeyError\u001b[0m: 'TexasCountyVaccinationStatus'",
      "\nDuring handling of the above exception, another exception occurred:\n",
      "\u001b[1;31mAttributeError\u001b[0m                            Traceback (most recent call last)",
      "\u001b[1;32m<ipython-input-25-070c20430b24>\u001b[0m in \u001b[0;36m<module>\u001b[1;34m\u001b[0m\n\u001b[1;32m----> 1\u001b[1;33m \u001b[0mTXVACC\u001b[0m \u001b[1;33m=\u001b[0m \u001b[0mBase\u001b[0m\u001b[1;33m.\u001b[0m\u001b[0mclasses\u001b[0m\u001b[1;33m.\u001b[0m\u001b[0mTexasCountyVaccinationStatus\u001b[0m\u001b[1;33m\u001b[0m\u001b[1;33m\u001b[0m\u001b[0m\n\u001b[0m\u001b[0;32m      2\u001b[0m \u001b[1;31m# Find the most recent date in the data set.\u001b[0m\u001b[1;33m\u001b[0m\u001b[1;33m\u001b[0m\u001b[1;33m\u001b[0m\u001b[0m\n\u001b[0;32m      3\u001b[0m \u001b[1;31m#maxdate = session.query(Measurement.date).order_by(Measurement.date.desc()).first()[0]\u001b[0m\u001b[1;33m\u001b[0m\u001b[1;33m\u001b[0m\u001b[1;33m\u001b[0m\u001b[0m\n\u001b[0;32m      4\u001b[0m \u001b[1;31m#print(maxdate)\u001b[0m\u001b[1;33m\u001b[0m\u001b[1;33m\u001b[0m\u001b[1;33m\u001b[0m\u001b[0m\n",
      "\u001b[1;32m~\\anaconda3\\lib\\site-packages\\sqlalchemy\\util\\_collections.py\u001b[0m in \u001b[0;36m__getattr__\u001b[1;34m(self, key)\u001b[0m\n\u001b[0;32m    186\u001b[0m             \u001b[1;32mreturn\u001b[0m \u001b[0mself\u001b[0m\u001b[1;33m.\u001b[0m\u001b[0m_data\u001b[0m\u001b[1;33m[\u001b[0m\u001b[0mkey\u001b[0m\u001b[1;33m]\u001b[0m\u001b[1;33m\u001b[0m\u001b[1;33m\u001b[0m\u001b[0m\n\u001b[0;32m    187\u001b[0m         \u001b[1;32mexcept\u001b[0m \u001b[0mKeyError\u001b[0m\u001b[1;33m:\u001b[0m\u001b[1;33m\u001b[0m\u001b[1;33m\u001b[0m\u001b[0m\n\u001b[1;32m--> 188\u001b[1;33m             \u001b[1;32mraise\u001b[0m \u001b[0mAttributeError\u001b[0m\u001b[1;33m(\u001b[0m\u001b[0mkey\u001b[0m\u001b[1;33m)\u001b[0m\u001b[1;33m\u001b[0m\u001b[1;33m\u001b[0m\u001b[0m\n\u001b[0m\u001b[0;32m    189\u001b[0m \u001b[1;33m\u001b[0m\u001b[0m\n\u001b[0;32m    190\u001b[0m     \u001b[1;32mdef\u001b[0m \u001b[0m__contains__\u001b[0m\u001b[1;33m(\u001b[0m\u001b[0mself\u001b[0m\u001b[1;33m,\u001b[0m \u001b[0mkey\u001b[0m\u001b[1;33m)\u001b[0m\u001b[1;33m:\u001b[0m\u001b[1;33m\u001b[0m\u001b[1;33m\u001b[0m\u001b[0m\n",
      "\u001b[1;31mAttributeError\u001b[0m: TexasCountyVaccinationStatus"
     ]
    }
   ],
   "source": [
    "TXVACC = Base.classes.TexasCountyVaccinationStatus\n",
    "# Find the most recent date in the data set.\n",
    "#maxdate = session.query(Measurement.date).order_by(Measurement.date.desc()).first()[0]\n",
    "#print(maxdate)\n"
   ]
  },
  {
   "cell_type": "code",
   "execution_count": null,
   "id": "1b3ef2eb",
   "metadata": {},
   "outputs": [],
   "source": []
  }
 ],
 "metadata": {
  "kernelspec": {
   "display_name": "Python 3",
   "language": "python",
   "name": "python3"
  },
  "language_info": {
   "codemirror_mode": {
    "name": "ipython",
    "version": 3
   },
   "file_extension": ".py",
   "mimetype": "text/x-python",
   "name": "python",
   "nbconvert_exporter": "python",
   "pygments_lexer": "ipython3",
   "version": "3.8.8"
  }
 },
 "nbformat": 4,
 "nbformat_minor": 5
}
