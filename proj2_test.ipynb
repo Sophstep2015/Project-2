{
 "cells": [
  {
   "cell_type": "code",
   "execution_count": 17,
   "id": "f4b9253a",
   "metadata": {},
   "outputs": [],
   "source": [
    "import os \n",
    "import json\n",
    "import pandas as pd\n",
    "import pymongo"
   ]
  },
  {
   "cell_type": "code",
   "execution_count": 18,
   "id": "3aee4bd4",
   "metadata": {},
   "outputs": [],
   "source": [
    "conn = 'mongodb://localhost:27017'\n",
    "client = pymongo.MongoClient(conn)\n",
    "db = client[\"Project-2\"]"
   ]
  },
  {
   "cell_type": "code",
   "execution_count": 19,
   "id": "2ea19740",
   "metadata": {},
   "outputs": [],
   "source": [
    "for x in os.listdir('this_one'):\n",
    "    df = pd.read_csv(f'this_one/{x}')\n",
    "    x = x.replace(\" \",\"_\")[:len(x) - 4]\n",
    "    collist = db.list_collection_names()\n",
    "    records = json.loads(df.T.to_json()).values()\n",
    "    if x not in collist:\n",
    "          db[x].insert_many(records)"
   ]
  },
  {
   "cell_type": "code",
   "execution_count": 20,
   "id": "a405a4dc",
   "metadata": {},
   "outputs": [],
   "source": [
    "for x in db.list_collection_names():\n",
    "    df = pd.DataFrame(list(db[x].find()))\n",
    "    del df['_id']\n",
    "# print(db.list_collection_names())\n",
    "# data = list(db[\"texas_combined_completed_data\"].find())\n",
    "# print(json.dumps(data, default=str, indent=4))\n",
    "df = pd.DataFrame(list(db[\"Vaccinations_County_Stats_-_Public_Share\"].find()))\n",
    "del df['_id']"
   ]
  },
  {
   "cell_type": "code",
   "execution_count": 21,
   "id": "4eae938a",
   "metadata": {},
   "outputs": [
    {
     "name": "stdout",
     "output_type": "stream",
     "text": [
      "Index(['ObjectId', 'Category', 'Category_Description', 'General_Population',\n",
      "       'At_Least_One_Dose', 'Fully_Vaccinated', 'Note', 'Date'],\n",
      "      dtype='object')\n"
     ]
    }
   ],
   "source": [
    "print(df.columns)\n",
    "pfv = []\n",
    "ppv = []\n",
    "for x in range(len(df[]) - 1):\n",
    "    death_rate.append(float(df[\"Deaths\"].tolist()[x + 1] - df[\"Deaths\"].tolist()[x]))\n",
    "    vaccinated_rate.append(df[\"People_Fully_Vaccinated\"].tolist()[x + 1] - df[\"People_Fully_Vaccinated\"].tolist()[x])\n",
    "print(death_rate)\n",
    "print(vaccinated_rate)"
   ]
  },
  {
   "cell_type": "code",
   "execution_count": null,
   "id": "5ba645a7",
   "metadata": {},
   "outputs": [],
   "source": []
  },
  {
   "cell_type": "code",
   "execution_count": null,
   "id": "a88b2dda",
   "metadata": {},
   "outputs": [],
   "source": []
  }
 ],
 "metadata": {
  "kernelspec": {
   "display_name": "Python 3",
   "language": "python",
   "name": "python3"
  },
  "language_info": {
   "codemirror_mode": {
    "name": "ipython",
    "version": 3
   },
   "file_extension": ".py",
   "mimetype": "text/x-python",
   "name": "python",
   "nbconvert_exporter": "python",
   "pygments_lexer": "ipython3",
   "version": "3.8.8"
  }
 },
 "nbformat": 4,
 "nbformat_minor": 5
}
