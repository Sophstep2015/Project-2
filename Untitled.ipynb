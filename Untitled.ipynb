{
 "cells": [
  {
   "cell_type": "code",
   "execution_count": 1,
   "metadata": {},
   "outputs": [],
   "source": [
    "import matplotlib.pyplot as plt\n",
    "import pandas as pd\n",
    "import numpy as np\n",
    "import requests\n",
    "import gmaps\n",
    "import os\n",
    "\n",
    "# Import API key\n",
    "from API_Keys import gkey"
   ]
  },
  {
   "cell_type": "code",
   "execution_count": 2,
   "metadata": {},
   "outputs": [
    {
     "data": {
      "text/html": [
       "<div>\n",
       "<style scoped>\n",
       "    .dataframe tbody tr th:only-of-type {\n",
       "        vertical-align: middle;\n",
       "    }\n",
       "\n",
       "    .dataframe tbody tr th {\n",
       "        vertical-align: top;\n",
       "    }\n",
       "\n",
       "    .dataframe thead th {\n",
       "        text-align: right;\n",
       "    }\n",
       "</style>\n",
       "<table border=\"1\" class=\"dataframe\">\n",
       "  <thead>\n",
       "    <tr style=\"text-align: right;\">\n",
       "      <th></th>\n",
       "      <th>lat</th>\n",
       "      <th>long</th>\n",
       "      <th>county</th>\n",
       "      <th>province_state</th>\n",
       "      <th>combined_key</th>\n",
       "      <th>date</th>\n",
       "      <th>tests_combined_total</th>\n",
       "    </tr>\n",
       "  </thead>\n",
       "  <tbody>\n",
       "    <tr>\n",
       "      <th>0</th>\n",
       "      <td>31.8153</td>\n",
       "      <td>-95.6535</td>\n",
       "      <td>Anderson</td>\n",
       "      <td>Texas</td>\n",
       "      <td>Anderson, Texas, US</td>\n",
       "      <td>10/24/21</td>\n",
       "      <td>74357</td>\n",
       "    </tr>\n",
       "    <tr>\n",
       "      <th>1</th>\n",
       "      <td>32.3047</td>\n",
       "      <td>-102.6377</td>\n",
       "      <td>Andrews</td>\n",
       "      <td>Texas</td>\n",
       "      <td>Andrews, Texas, US</td>\n",
       "      <td>10/24/21</td>\n",
       "      <td>5401</td>\n",
       "    </tr>\n",
       "    <tr>\n",
       "      <th>2</th>\n",
       "      <td>31.2546</td>\n",
       "      <td>-94.6090</td>\n",
       "      <td>Angelina</td>\n",
       "      <td>Texas</td>\n",
       "      <td>Angelina, Texas, US</td>\n",
       "      <td>10/24/21</td>\n",
       "      <td>76231</td>\n",
       "    </tr>\n",
       "    <tr>\n",
       "      <th>3</th>\n",
       "      <td>28.1056</td>\n",
       "      <td>-96.9995</td>\n",
       "      <td>Aransas</td>\n",
       "      <td>Texas</td>\n",
       "      <td>Aransas, Texas, US</td>\n",
       "      <td>10/24/21</td>\n",
       "      <td>14569</td>\n",
       "    </tr>\n",
       "    <tr>\n",
       "      <th>4</th>\n",
       "      <td>33.6157</td>\n",
       "      <td>-98.6875</td>\n",
       "      <td>Archer</td>\n",
       "      <td>Texas</td>\n",
       "      <td>Archer, Texas, US</td>\n",
       "      <td>10/24/21</td>\n",
       "      <td>4115</td>\n",
       "    </tr>\n",
       "  </tbody>\n",
       "</table>\n",
       "</div>"
      ],
      "text/plain": [
       "       lat      long    county province_state         combined_key      date  \\\n",
       "0  31.8153  -95.6535  Anderson          Texas  Anderson, Texas, US  10/24/21   \n",
       "1  32.3047 -102.6377   Andrews          Texas   Andrews, Texas, US  10/24/21   \n",
       "2  31.2546  -94.6090  Angelina          Texas  Angelina, Texas, US  10/24/21   \n",
       "3  28.1056  -96.9995   Aransas          Texas   Aransas, Texas, US  10/24/21   \n",
       "4  33.6157  -98.6875    Archer          Texas    Archer, Texas, US  10/24/21   \n",
       "\n",
       "   tests_combined_total  \n",
       "0                 74357  \n",
       "1                  5401  \n",
       "2                 76231  \n",
       "3                 14569  \n",
       "4                  4115  "
      ]
     },
     "execution_count": 2,
     "metadata": {},
     "output_type": "execute_result"
    }
   ],
   "source": [
    "TotalTestsCountyDF = pd.read_csv(\"Resources/total_tests_county.csv\")\n",
    "TotalTestsCountyDF.dropna()\n",
    "TotalTestsCountyDF.head()"
   ]
  },
  {
   "cell_type": "code",
   "execution_count": 13,
   "metadata": {},
   "outputs": [],
   "source": [
    "CountyData = pd.DataFrame ({\"county\":TotalTestsCountyDF[\"county\"],\n",
    "                            \"TotalTestsSeries\":TotalTestsCountyDF[\"tests_combined_total\"],\n",
    "                            })"
   ]
  },
  {
   "cell_type": "code",
   "execution_count": 29,
   "metadata": {},
   "outputs": [
    {
     "data": {
      "text/html": [
       "<div>\n",
       "<style scoped>\n",
       "    .dataframe tbody tr th:only-of-type {\n",
       "        vertical-align: middle;\n",
       "    }\n",
       "\n",
       "    .dataframe tbody tr th {\n",
       "        vertical-align: top;\n",
       "    }\n",
       "\n",
       "    .dataframe thead th {\n",
       "        text-align: right;\n",
       "    }\n",
       "</style>\n",
       "<table border=\"1\" class=\"dataframe\">\n",
       "  <thead>\n",
       "    <tr style=\"text-align: right;\">\n",
       "      <th></th>\n",
       "      <th>TotalTestsSeries</th>\n",
       "    </tr>\n",
       "    <tr>\n",
       "      <th>county</th>\n",
       "      <th></th>\n",
       "    </tr>\n",
       "  </thead>\n",
       "  <tbody>\n",
       "    <tr>\n",
       "      <th>Anderson</th>\n",
       "      <td>74357</td>\n",
       "    </tr>\n",
       "    <tr>\n",
       "      <th>Andrews</th>\n",
       "      <td>5401</td>\n",
       "    </tr>\n",
       "    <tr>\n",
       "      <th>Angelina</th>\n",
       "      <td>76231</td>\n",
       "    </tr>\n",
       "  </tbody>\n",
       "</table>\n",
       "</div>"
      ],
      "text/plain": [
       "          TotalTestsSeries\n",
       "county                    \n",
       "Anderson             74357\n",
       "Andrews               5401\n",
       "Angelina             76231"
      ]
     },
     "execution_count": 29,
     "metadata": {},
     "output_type": "execute_result"
    }
   ],
   "source": [
    "CountyData.head()\n",
    "GroupbyCountyDF = CountyData.groupby(\"county\").sum()\n",
    "GroupbyCountyDF.head(3)"
   ]
  },
  {
   "cell_type": "code",
   "execution_count": 30,
   "metadata": {},
   "outputs": [
    {
     "data": {
      "text/html": [
       "<div>\n",
       "<style scoped>\n",
       "    .dataframe tbody tr th:only-of-type {\n",
       "        vertical-align: middle;\n",
       "    }\n",
       "\n",
       "    .dataframe tbody tr th {\n",
       "        vertical-align: top;\n",
       "    }\n",
       "\n",
       "    .dataframe thead th {\n",
       "        text-align: right;\n",
       "    }\n",
       "</style>\n",
       "<table border=\"1\" class=\"dataframe\">\n",
       "  <thead>\n",
       "    <tr style=\"text-align: right;\">\n",
       "      <th></th>\n",
       "      <th>county</th>\n",
       "      <th>TotalTestsSeries</th>\n",
       "    </tr>\n",
       "  </thead>\n",
       "  <tbody>\n",
       "    <tr>\n",
       "      <th>0</th>\n",
       "      <td>Harris</td>\n",
       "      <td>6256945</td>\n",
       "    </tr>\n",
       "    <tr>\n",
       "      <th>1</th>\n",
       "      <td>Bexar</td>\n",
       "      <td>3625676</td>\n",
       "    </tr>\n",
       "    <tr>\n",
       "      <th>2</th>\n",
       "      <td>Dallas</td>\n",
       "      <td>3451909</td>\n",
       "    </tr>\n",
       "    <tr>\n",
       "      <th>3</th>\n",
       "      <td>Tarrant</td>\n",
       "      <td>2411826</td>\n",
       "    </tr>\n",
       "    <tr>\n",
       "      <th>4</th>\n",
       "      <td>Travis</td>\n",
       "      <td>1611633</td>\n",
       "    </tr>\n",
       "    <tr>\n",
       "      <th>5</th>\n",
       "      <td>Collin</td>\n",
       "      <td>1407492</td>\n",
       "    </tr>\n",
       "    <tr>\n",
       "      <th>6</th>\n",
       "      <td>El Paso</td>\n",
       "      <td>1135831</td>\n",
       "    </tr>\n",
       "    <tr>\n",
       "      <th>7</th>\n",
       "      <td>Fort Bend</td>\n",
       "      <td>1020161</td>\n",
       "    </tr>\n",
       "    <tr>\n",
       "      <th>8</th>\n",
       "      <td>Denton</td>\n",
       "      <td>846897</td>\n",
       "    </tr>\n",
       "    <tr>\n",
       "      <th>9</th>\n",
       "      <td>Hidalgo</td>\n",
       "      <td>717832</td>\n",
       "    </tr>\n",
       "  </tbody>\n",
       "</table>\n",
       "</div>"
      ],
      "text/plain": [
       "      county  TotalTestsSeries\n",
       "0     Harris           6256945\n",
       "1      Bexar           3625676\n",
       "2     Dallas           3451909\n",
       "3    Tarrant           2411826\n",
       "4     Travis           1611633\n",
       "5     Collin           1407492\n",
       "6    El Paso           1135831\n",
       "7  Fort Bend           1020161\n",
       "8     Denton            846897\n",
       "9    Hidalgo            717832"
      ]
     },
     "execution_count": 30,
     "metadata": {},
     "output_type": "execute_result"
    }
   ],
   "source": [
    "#Droping the NaN values\n",
    "GroupbyCountyDF = GroupbyCountyDF.dropna()\n",
    "\n",
    "\n",
    "\n",
    "Top10TestedCounties = GroupbyCountyDF.sort_values(\"TotalTestsSeries\",ascending=False).head(10)\n",
    "\n",
    "Top10TestedCounties.reset_index() \n"
   ]
  },
  {
   "cell_type": "code",
   "execution_count": 32,
   "metadata": {},
   "outputs": [
    {
     "data": {
      "image/png": "[encoded data removed]",
      "text/plain": [
       "<Figure size 720x432 with 1 Axes>"
      ]
     },
     "metadata": {
      "needs_background": "light"
     },
     "output_type": "display_data"
    }
   ],
   "source": [
    "Top10TestedCounties.plot(kind=\"bar\",figsize=(10,6), color = \"b\",legend = True)\n",
    "plt.title (\"Top 10 Tested Counties\")\n",
    "plt.xlabel(\"Counties\")\n",
    "plt.ylabel(\"In Millions\")\n",
    "plt.show()"
   ]
  },
  {
   "cell_type": "code",
   "execution_count": null,
   "metadata": {},
   "outputs": [],
   "source": [
    "\n",
    "#Configure gmaps with API key.\n",
    "gmaps.configure(api_key = gkey)\n",
    "MapFig = gmaps.figure()\n",
    "\n",
    "#Geting Lats and Longs.\n",
    "#Location = CountyData[[\"Lats\",\"Long\"]].astype(float)\n",
    "\n",
    "#CountyMap = gmaps.symbol_layer(Location, weights=Humidity, \n",
    "                                 #dissipating=False, max_intensity=max(CitiesDF[\"Humidity\"]),\n",
    "                                 #point_radius = 2)\n",
    "#hotel_layer = gmaps.symbol_layer(\n",
    "    #Location, fill_color='rgba(0, 150, 0, 0.4)',\n",
    "    #stroke_color='rgba(0, 0, 150, 0.4)', scale=2,\n",
    "    #info_box_content=hotel_info\n",
    "#)"
   ]
  }
 ],
 "metadata": {
  "kernelspec": {
   "display_name": "Python 3",
   "language": "python",
   "name": "python3"
  },
  "language_info": {
   "codemirror_mode": {
    "name": "ipython",
    "version": 3
   },
   "file_extension": ".py",
   "mimetype": "text/x-python",
   "name": "python",
   "nbconvert_exporter": "python",
   "pygments_lexer": "ipython3",
   "version": "3.7.4"
  }
 },
 "nbformat": 4,
 "nbformat_minor": 2
}
